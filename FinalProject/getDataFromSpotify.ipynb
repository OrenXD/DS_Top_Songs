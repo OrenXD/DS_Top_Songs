{
 "cells": [
  {
   "cell_type": "markdown",
   "metadata": {},
   "source": [
    "# Note: The following file will fail if you will try to run it as it must contain private Spotify client settings."
   ]
  },
  {
   "cell_type": "markdown",
   "metadata": {},
   "source": [
    "First we had to install spotipy library by running `pip install spotipy`\n",
    "<br>\n",
    "According to https://anaconda.org/jkroes/spotipy"
   ]
  },
  {
   "cell_type": "markdown",
   "metadata": {},
   "source": [
    "#### Using Spotify API request to approve few terms of use:<br>\n",
    "* I understand that this app is not for commercial use\n",
    "* I understand that I cannot migrate my app from non-commercial to commercial without permission\n",
    "* I understand and agree with Spotify's Developer Terms of Service, Branding Guidelines, and Privacy Policy\n",
    "    * https://developer.spotify.com/terms/\n",
    "    * https://developer.spotify.com/branding-guidelines/\n",
    "    * https://www.spotify.com/il-en/legal/privacy-policy/"
   ]
  },
  {
   "cell_type": "markdown",
   "metadata": {},
   "source": [
    "Create access token and get a specific user liked songs (as a test)"
   ]
  },
  {
   "cell_type": "code",
   "execution_count": 1,
   "metadata": {},
   "outputs": [
    {
     "name": "stdout",
     "output_type": "stream",
     "text": [
      "Backseat Freestyle - Kendrick Lamar\n",
      "Tusa - KAROL G\n",
      "Ready To Let Go - Cage The Elephant\n",
      "Diggin' a Hole - Downstairs Monsters\n",
      "Starry Night - Original Mix - Peggy Gou\n",
      "That's Life (feat. Mac Miller & Sia) - 88-Keys\n",
      "Eleven - Khalid\n",
      "Lalala - Y2K\n",
      "מאושרים - Doli & Penn\n",
      "ROXANNE - Arizona Zervas\n",
      "Be Still - Liam Gallagher\n",
      "לא חסר לי כלום - Avihu Pinchasov Rhythm Club\n",
      "Sunday Best - Surfaces\n",
      "Right Back (feat. A Boogie Wit Da Hoodie) - Khalid\n",
      "I Got A Name - Stereo Version - Jim Croce\n",
      "Lover Of The Light - Live From Red Rocks, Colorado - Mumford & Sons\n",
      "What's the Use? - Mac Miller\n",
      "Hard Sun - Eddie Vedder\n",
      "The Girl from Ipanema - Al Hirt\n",
      "The Unexpected Visitor - CBL Carbonator Remix - Shulman\n"
     ]
    }
   ],
   "source": [
    "import spotipy\n",
    "import spotipy.util as util\n",
    "import sys\n",
    "\n",
    "username = ''\n",
    "client_id = ''\n",
    "client_secret = ''\n",
    "redirect_uri = 'http://localhost:8888/callback/'\n",
    "scope = 'user-library-read'\n",
    "\n",
    "if len(sys.argv) > 1:\n",
    "    username = sys.argv[1]\n",
    "else:\n",
    "    print(\"Usage: %s username\" % (sys.argv[0],))\n",
    "    sys.exit()\n",
    "\n",
    "token = util.prompt_for_user_token(username, scope, client_id, client_secret, redirect_uri)\n",
    "\n",
    "if token:\n",
    "    sp = spotipy.Spotify(auth=token)\n",
    "    results = sp.current_user_saved_tracks()\n",
    "    for item in results['items']:\n",
    "        track = item['track']\n",
    "        print(track['name'] + ' - ' + track['artists'][0]['name'])\n",
    "else:\n",
    "    print(\"Can't get token for\", username)"
   ]
  },
  {
   "cell_type": "code",
   "execution_count": 2,
   "metadata": {},
   "outputs": [
    {
     "name": "stdout",
     "output_type": "stream",
     "text": [
      "{'href': 'https://api.spotify.com/v1/users/-f/playlists?offset=0&limit=50', 'items': [], 'limit': 50, 'next': None, 'offset': 0, 'previous': None, 'total': 0}\n"
     ]
    }
   ],
   "source": [
    "track_id = []\n",
    "\n",
    "\n",
    "if token:\n",
    "    sp = spotipy.Spotify(auth=token)\n",
    "    playlists = sp.user_playlists(username)\n",
    "    print(playlists)\n",
    "else:\n",
    "    print(\"Can't get token for\", username)"
   ]
  },
  {
   "cell_type": "markdown",
   "metadata": {},
   "source": [
    "We had the option to include 'popularity' column but as it's an updated data to __todays__ popularity status of the song then it's not relevant - we marked those lines."
   ]
  },
  {
   "cell_type": "code",
   "execution_count": 7,
   "metadata": {},
   "outputs": [
    {
     "name": "stdout",
     "output_type": "stream",
     "text": [
      "100\n",
      "100\n",
      "{'track': {'id': '6DCZcSspjsKoFjzjrWoCdn'}}\n",
      "0\n",
      "{'track': {'id': '0tgVpDi06FyKpA1z0VMD4v'}}\n",
      "1\n",
      "{'track': {'id': '7iDa6hUg2VgEL1o1HjmfBn'}}\n",
      "2\n",
      "{'track': {'id': '1rfofaqEpACxVEHIZBJe6W'}}\n",
      "3\n",
      "{'track': {'id': '0e7ipj03S05BNilyu5bRzt'}}\n",
      "4\n",
      "{'track': {'id': '3swc6WTsr7rl9DqQKQA55C'}}\n",
      "5\n",
      "{'track': {'id': '58q2HKrzhC3ozto2nDdN4z'}}\n",
      "6\n",
      "{'track': {'id': '09IStsImFySgyp0pIQdqAc'}}\n",
      "7\n",
      "{'track': {'id': '2G7V7zsVDxg1yRsu7Ew9RJ'}}\n",
      "8\n",
      "{'track': {'id': '6FRLCMO5TUHTexlWo8ym1W'}}\n",
      "9\n",
      "{'track': {'id': '3CA9pLiwRIGtUBiMjbZmRw'}}\n",
      "10\n",
      "{'track': {'id': '0s3nnoMeVWz3989MkNQiRf'}}\n",
      "11\n",
      "{'track': {'id': '7dt6x5M1jzdTEt8oCbisTK'}}\n",
      "12\n",
      "{'track': {'id': '3Vo4wInECJQuz9BIBMOu8i'}}\n",
      "13\n",
      "{'track': {'id': '0At2qAoaVjIwWNAqrscXli'}}\n",
      "14\n",
      "{'track': {'id': '6tF92PMv01Ug9Dh8Rmy6nH'}}\n",
      "15\n",
      "{'track': {'id': '3ee8Jmje8o58CHK66QrVC2'}}\n",
      "16\n",
      "{'track': {'id': '4eWQlBRaTjPPUlzacqEeoQ'}}\n",
      "17\n",
      "{'track': {'id': '45Egmo7icyopuzJN0oMEdk'}}\n",
      "18\n",
      "{'track': {'id': '2qT1uLXPVPzGgFOx4jtEuo'}}\n",
      "19\n",
      "{'track': {'id': '7uzmGiiJyRfuViKKK3lVmR'}}\n",
      "20\n",
      "{'track': {'id': '1zB4vmk8tFRmM9UULNzbLB'}}\n",
      "21\n",
      "{'track': {'id': '4qKcDkK6siZ7Jp1Jb4m0aL'}}\n",
      "22\n",
      "{'track': {'id': '6NFyWDv5CjfwuzoCkw47Xf'}}\n",
      "23\n",
      "{'track': {'id': '6vN77lE9LK6HP2DewaN6HZ'}}\n",
      "24\n",
      "{'track': {'id': '08bNPGLD8AhKpnnERrAc6G'}}\n",
      "25\n",
      "{'track': {'id': '7y9iMe8SOB6z3NoHE2OfXl'}}\n",
      "26\n",
      "{'track': {'id': '5IaHrVsrferBYDm0bDyABy'}}\n",
      "27\n",
      "{'track': {'id': '52okn5MNA47tk87PeZJLEL'}}\n",
      "28\n",
      "{'track': {'id': '2Xqd0wUttjueBfdcltADOv'}}\n",
      "29\n",
      "{'track': {'id': '4QIyEq7TcTdAcxjI2AFlAK'}}\n",
      "30\n",
      "{'track': {'id': '7Il2yWQmsqKgSkLQvHTPUI'}}\n",
      "31\n",
      "{'track': {'id': '6QgjcU0zLnzq5OrUoSZ3OK'}}\n",
      "32\n",
      "{'track': {'id': '4wFjTWCunQFKtukqrNijEt'}}\n",
      "33\n",
      "{'track': {'id': '1wjzFQodRWrPcQ0AnYnvQ9'}}\n",
      "34\n",
      "{'track': {'id': '55S2PQgSMYAhgoTCcGCDfw'}}\n",
      "35\n",
      "{'track': {'id': '6Qn5zhYkTa37e91HC1D7lb'}}\n",
      "36\n",
      "{'track': {'id': '7sO5G9EABYOXQKNPNiE9NR'}}\n",
      "37\n",
      "{'track': {'id': '75ZvA4QfFiZvzhj2xkaWAh'}}\n",
      "38\n",
      "{'track': {'id': '77UjLW8j5UAGAGVGhR5oUK'}}\n",
      "39\n",
      "{'track': {'id': '514rhnksEwHUh6LxXsQ4Y9'}}\n",
      "40\n",
      "{'track': {'id': '2xLMifQCjDGFmkHkpNLD9h'}}\n",
      "41\n",
      "{'track': {'id': '6n4U3TlzUGhdSFbUUhTvLP'}}\n",
      "42\n",
      "{'track': {'id': '43ZyHQITOjhciSUUNPVRHc'}}\n",
      "43\n",
      "{'track': {'id': '5k38wzpLb15YgncyWdTZE4'}}\n",
      "44\n",
      "{'track': {'id': '2QZ7WLBE8h2y1Y5Fb8RYbH'}}\n",
      "45\n",
      "{'track': {'id': '3GCdLUSnKSMJhs4Tj6CV3s'}}\n",
      "46\n",
      "{'track': {'id': '2UVbBKQOdFAekPTRsnkzcf'}}\n",
      "47\n",
      "{'track': {'id': '3VlbOrM6nYPprVvzBZllE5'}}\n",
      "48\n",
      "{'track': {'id': '6PGoSes0D9eUDeeAafB2As'}}\n",
      "49\n",
      "{'track': {'id': '0b9oOr2ZgvyQu88wzixux9'}}\n",
      "50\n",
      "{'track': {'id': '0TlLq3lA83rQOYtrqBqSct'}}\n",
      "51\n",
      "{'track': {'id': '1HXy5I3HTWq8OvxCn0z7G7'}}\n",
      "52\n",
      "{'track': {'id': '6KBYefIoo7KydImq1uUQlL'}}\n",
      "53\n",
      "{'track': {'id': '10Igtw8bSDyyFs7KIsKngZ'}}\n",
      "54\n",
      "{'track': {'id': '4HbiCvH1R7mVOJ7KY7JQBD'}}\n",
      "55\n",
      "{'track': {'id': '1ZAyjvIk9YiD76yYy0TEG6'}}\n",
      "56\n",
      "{'track': {'id': '6AvfZXpbb6r35DfF7gHPRq'}}\n",
      "57\n",
      "{'track': {'id': '2Yl4OmDby9iitgNWZPwxkd'}}\n",
      "58\n",
      "{'track': {'id': '0tBbt8CrmxbjRP0pueQkyU'}}\n",
      "59\n",
      "{'track': {'id': '0dIoGTQXDh1wVnhIiSyYEa'}}\n",
      "60\n",
      "{'track': {'id': '5OCJzvD7sykQEKHH7qAC3C'}}\n",
      "61\n",
      "{'track': {'id': '0ZNrc4kNeQYD9koZ3KvCsy'}}\n",
      "62\n",
      "{'track': {'id': '3Du2K5dLzmduCNp6uwuaL0'}}\n",
      "63\n",
      "{'track': {'id': '6wmAHw1szh5RCKSRjiXhPe'}}\n",
      "64\n",
      "{'track': {'id': '60vvp6UXG2KmLmrNvcVHa8'}}\n",
      "65\n",
      "{'track': {'id': '5Z3GHaZ6ec9bsiI5BenrbY'}}\n",
      "66\n",
      "{'track': {'id': '7ef4DlsgrMEH11cDZd32M6'}}\n",
      "67\n",
      "{'track': {'id': '2FY7b99s15jUprqC0M5NCT'}}\n",
      "68\n",
      "{'track': {'id': '2ZxTjs4EdJl4Y9YByIiNoo'}}\n",
      "69\n",
      "{'track': {'id': '7qiZfU4dY1lWllzX7mPBI3'}}\n",
      "70\n",
      "{'track': {'id': '1XRgIKC5TPwo7nWGyKqgG0'}}\n",
      "71\n",
      "{'track': {'id': '5WvAo7DNuPRmk4APhdPzi8'}}\n",
      "72\n",
      "{'track': {'id': '2YzmfPLqUx5CJOaw5ThsBV'}}\n",
      "73\n",
      "{'track': {'id': '5WoaF1B5XIEnWfmb5NZikf'}}\n",
      "74\n",
      "{'track': {'id': '0OWZFobGSIW9GrSlQ9C5pc'}}\n",
      "75\n",
      "{'track': {'id': '0d2iYfpKoM0QCKvcLCkBao'}}\n",
      "76\n",
      "{'track': {'id': '4MPTj8lMMvxLwT3EwuXFop'}}\n",
      "77\n",
      "{'track': {'id': '51rXHuKN8Loc4sUlKPODgH'}}\n",
      "78\n",
      "{'track': {'id': '2dpaYNEQHiRxtZbfNsse99'}}\n",
      "79\n",
      "{'track': {'id': '3V8UKqhEK5zBkBb6d6ub8i'}}\n",
      "80\n",
      "{'track': {'id': '1co0puPTYvqAdUEjFOjne9'}}\n",
      "81\n",
      "{'track': {'id': '4PpuH4mxL0rD35mOWaLoKS'}}\n",
      "82\n",
      "{'track': {'id': '5tz69p7tJuGPeMGwNTxYuV'}}\n",
      "83\n",
      "{'track': {'id': '09ts3GnICqYEU5PkQCpJK3'}}\n",
      "84\n",
      "{'track': {'id': '3qN5qMTKyEEmiTZD38BNTT'}}\n",
      "85\n",
      "{'track': {'id': '2ZFrEp20VO25BXYhMxh0GW'}}\n",
      "86\n",
      "{'track': {'id': '0JP9xo3adEtGSdUEISiszL'}}\n",
      "87\n",
      "{'track': {'id': '2j5hsQvApottzvTn4pFJWF'}}\n",
      "88\n",
      "{'track': {'id': '39N9RPD9MRb5WmoLzNzPeA'}}\n",
      "89\n",
      "{'track': {'id': '3sA7HKGzcKTVscdiTCrWpX'}}\n",
      "90\n",
      "{'track': {'id': '6CTWathupIiDs7U4InHnDA'}}\n",
      "91\n",
      "{'track': {'id': '6KuqAtoeVzxAYOaMveLNpH'}}\n",
      "92\n",
      "{'track': {'id': '7AFASza1mXqntmGtbxXprO'}}\n",
      "93\n",
      "{'track': {'id': '2VIPU72L6tIR4w8J8ap6Kp'}}\n",
      "94\n",
      "{'track': {'id': '4gB7HrYHbJVJ5RFOjxmoq4'}}\n",
      "95\n",
      "{'track': {'id': '1BuZAIO8WZpavWVbbq3Lci'}}\n",
      "96\n",
      "{'track': {'id': '76cy1WJvNGJTj78UqeA5zr'}}\n",
      "97\n",
      "{'track': {'id': '0GzmMQizDeA2NVMUaZksv0'}}\n",
      "98\n",
      "100\n",
      "0\n"
     ]
    },
    {
     "ename": "IndexError",
     "evalue": "list index out of range",
     "output_type": "error",
     "traceback": [
      "\u001b[1;31m---------------------------------------------------------------------------\u001b[0m",
      "\u001b[1;31mIndexError\u001b[0m                                Traceback (most recent call last)",
      "\u001b[1;32m<ipython-input-7-5954dfd73e5c>\u001b[0m in \u001b[0;36m<module>\u001b[1;34m\u001b[0m\n\u001b[0;32m     28\u001b[0m \u001b[1;33m\u001b[0m\u001b[0m\n\u001b[0;32m     29\u001b[0m     \u001b[1;32mfor\u001b[0m \u001b[0mi\u001b[0m \u001b[1;32min\u001b[0m \u001b[0mrange\u001b[0m\u001b[1;33m(\u001b[0m\u001b[1;36m0\u001b[0m\u001b[1;33m,\u001b[0m \u001b[0moffset\u001b[0m \u001b[1;33m-\u001b[0m \u001b[1;36m1\u001b[0m\u001b[1;33m)\u001b[0m\u001b[1;33m:\u001b[0m\u001b[1;33m\u001b[0m\u001b[1;33m\u001b[0m\u001b[0m\n\u001b[1;32m---> 30\u001b[1;33m         \u001b[0mprint\u001b[0m\u001b[1;33m(\u001b[0m\u001b[0mids\u001b[0m\u001b[1;33m[\u001b[0m\u001b[1;34m'items'\u001b[0m\u001b[1;33m]\u001b[0m\u001b[1;33m[\u001b[0m\u001b[0mi\u001b[0m\u001b[1;33m]\u001b[0m\u001b[1;33m)\u001b[0m\u001b[1;33m\u001b[0m\u001b[1;33m\u001b[0m\u001b[0m\n\u001b[0m\u001b[0;32m     31\u001b[0m         \u001b[0mprint\u001b[0m\u001b[1;33m(\u001b[0m\u001b[0mi\u001b[0m\u001b[1;33m)\u001b[0m\u001b[1;33m\u001b[0m\u001b[1;33m\u001b[0m\u001b[0m\n\u001b[0;32m     32\u001b[0m         \u001b[1;31m#pprint(ids['items'][i].get('track').get('id'))\u001b[0m\u001b[1;33m\u001b[0m\u001b[1;33m\u001b[0m\u001b[1;33m\u001b[0m\u001b[0m\n",
      "\u001b[1;31mIndexError\u001b[0m: list index out of range"
     ]
    }
   ],
   "source": [
    "from spotipy.oauth2 import SpotifyClientCredentials\n",
    "import spotipy\n",
    "from pprint import pprint\n",
    "\n",
    "pl2015_uri = 'spotify:playlist:1xkuRzFhnX3hCWu6hLxJ0U' #contains 95\n",
    "pl2016_uri = 'spotify:playlist:2LWafCgWzsXGWv7wJeePjA' #contains 98\n",
    "pl2017_uri = 'spotify:playlist:3CWVCLSmoT7speb9E5b9st' #contains 100\n",
    "pl2018_uri = 'spotify:playlist:37IRJrV9jd0LnsFTIY83ax' #contains 100\n",
    "\n",
    "ids2015_list = []\n",
    "ids2016_list = []\n",
    "ids2017_list = []\n",
    "ids2018_list = []\n",
    "\n",
    "offset = 0\n",
    "i = 0\n",
    "while True:\n",
    "    ids = sp.playlist_tracks(pl2018_uri,\n",
    "                                  offset=offset,\n",
    "                                  fields='items.track.id,total')\n",
    "#     pops = sp.playlist_tracks(pl2018_uri,\n",
    "#                                   offset=offset,\n",
    "#                                   fields='items.track.popularity.total')\n",
    "    offset = offset + len(ids['items'])\n",
    "    print(offset)\n",
    "    print(len(ids['items']))\n",
    "    #print(offset, \"/\", response['total'])\n",
    "    \n",
    "    for i in range(0, offset - 1):\n",
    "        print(ids['items'][i])\n",
    "        print(i)\n",
    "        #pprint(ids['items'][i].get('track').get('id'))\n",
    "        #ids2018_list.append(response['items'][i].get('track').get('id'))\n",
    "        \n",
    "        #pprint(pops.get('items')[i].get('track').get('popularity'))\n",
    "    if len(ids['items']) == 0:\n",
    "        break\n",
    "#ids2018_list"
   ]
  },
  {
   "cell_type": "code",
   "execution_count": 204,
   "metadata": {},
   "outputs": [
    {
     "data": {
      "text/plain": [
       "[{'danceability': 0.776,\n",
       "  'energy': 0.78,\n",
       "  'key': 10,\n",
       "  'loudness': -4.374,\n",
       "  'mode': 0,\n",
       "  'speechiness': 0.128,\n",
       "  'acousticness': 0.0622,\n",
       "  'instrumentalness': 0,\n",
       "  'liveness': 0.081,\n",
       "  'valence': 0.666,\n",
       "  'tempo': 124.949,\n",
       "  'type': 'audio_features',\n",
       "  'id': '0pqnGHJpmpxLKifKRmU6WP',\n",
       "  'uri': 'spotify:track:0pqnGHJpmpxLKifKRmU6WP',\n",
       "  'track_href': 'https://api.spotify.com/v1/tracks/0pqnGHJpmpxLKifKRmU6WP',\n",
       "  'analysis_url': 'https://api.spotify.com/v1/audio-analysis/0pqnGHJpmpxLKifKRmU6WP',\n",
       "  'duration_ms': 204347,\n",
       "  'time_signature': 4}]"
      ]
     },
     "execution_count": 204,
     "metadata": {},
     "output_type": "execute_result"
    }
   ],
   "source": [
    "feature_results = sp.audio_features('0pqnGHJpmpxLKifKRmU6WP')\n",
    "feature_results"
   ]
  },
  {
   "cell_type": "code",
   "execution_count": 213,
   "metadata": {},
   "outputs": [
    {
     "name": "stdout",
     "output_type": "stream",
     "text": [
      "                      ids\n",
      "0  0pqnGHJpmpxLKifKRmU6WP\n",
      "1  4gB7HrYHbJVJ5RFOjxmoq4\n",
      "2  76cy1WJvNGJTj78UqeA5zr \n",
      "\n"
     ]
    }
   ],
   "source": [
    "import pandas as pd\n",
    "temp_ids = ['0pqnGHJpmpxLKifKRmU6WP', '4gB7HrYHbJVJ5RFOjxmoq4', '76cy1WJvNGJTj78UqeA5zr']\n",
    "\n",
    "temp_df = pd.DataFrame()\n",
    "temp_df['ids'] = temp_ids\n",
    "print(temp_df, '\\n')"
   ]
  },
  {
   "cell_type": "code",
   "execution_count": 214,
   "metadata": {},
   "outputs": [
    {
     "name": "stdout",
     "output_type": "stream",
     "text": [
      "Number of tracks where no audio features were available: 0\n",
      "Time to run this code (in seconds): 0.10332779999953345\n"
     ]
    }
   ],
   "source": [
    "# again measuring the time\n",
    "import timeit\n",
    "start = timeit.default_timer()\n",
    "\n",
    "# empty list, batchsize and the counter for None results\n",
    "rows = []\n",
    "batchsize = 100\n",
    "None_counter = 0\n",
    "\n",
    "for i in range(0,len(temp_df['ids']),batchsize):\n",
    "    batch = temp_df['ids'][i:i+batchsize]\n",
    "    feature_results = sp.audio_features(batch)\n",
    "    for i, t in enumerate(feature_results):\n",
    "        if t == None:\n",
    "            None_counter = None_counter + 1\n",
    "        else:\n",
    "            rows.append(t)\n",
    "\n",
    "print('Number of tracks where no audio features were available:',None_counter)\n",
    "\n",
    "stop = timeit.default_timer()\n",
    "print ('Time to run this code (in seconds):',stop - start)"
   ]
  },
  {
   "cell_type": "code",
   "execution_count": 202,
   "metadata": {},
   "outputs": [
    {
     "name": "stdout",
     "output_type": "stream",
     "text": [
      "number of elements in the track_id list: 3\n",
      "\n",
      " {'danceability': 0.776, 'energy': 0.78, 'key': 10, 'loudness': -4.374, 'mode': 0, 'speechiness': 0.128, 'acousticness': 0.0622, 'instrumentalness': 0, 'liveness': 0.081, 'valence': 0.666, 'tempo': 124.949, 'type': 'audio_features', 'id': '0pqnGHJpmpxLKifKRmU6WP', 'uri': 'spotify:track:0pqnGHJpmpxLKifKRmU6WP', 'track_href': 'https://api.spotify.com/v1/tracks/0pqnGHJpmpxLKifKRmU6WP', 'analysis_url': 'https://api.spotify.com/v1/audio-analysis/0pqnGHJpmpxLKifKRmU6WP', 'duration_ms': 204347, 'time_signature': 4}\n"
     ]
    }
   ],
   "source": [
    "print('number of elements in the track_id list:', len(rows))\n",
    "print('\\n', rows[0])"
   ]
  },
  {
   "cell_type": "markdown",
   "metadata": {},
   "source": [
    "Load the audio features data into a dataframe"
   ]
  },
  {
   "cell_type": "code",
   "execution_count": 203,
   "metadata": {},
   "outputs": [
    {
     "name": "stdout",
     "output_type": "stream",
     "text": [
      "Shape of the dataset: (3, 18)\n"
     ]
    },
    {
     "data": {
      "text/html": [
       "<div>\n",
       "<style scoped>\n",
       "    .dataframe tbody tr th:only-of-type {\n",
       "        vertical-align: middle;\n",
       "    }\n",
       "\n",
       "    .dataframe tbody tr th {\n",
       "        vertical-align: top;\n",
       "    }\n",
       "\n",
       "    .dataframe thead th {\n",
       "        text-align: right;\n",
       "    }\n",
       "</style>\n",
       "<table border=\"1\" class=\"dataframe\">\n",
       "  <thead>\n",
       "    <tr style=\"text-align: right;\">\n",
       "      <th></th>\n",
       "      <th>acousticness</th>\n",
       "      <th>analysis_url</th>\n",
       "      <th>danceability</th>\n",
       "      <th>duration_ms</th>\n",
       "      <th>energy</th>\n",
       "      <th>id</th>\n",
       "      <th>instrumentalness</th>\n",
       "      <th>key</th>\n",
       "      <th>liveness</th>\n",
       "      <th>loudness</th>\n",
       "      <th>mode</th>\n",
       "      <th>speechiness</th>\n",
       "      <th>tempo</th>\n",
       "      <th>time_signature</th>\n",
       "      <th>track_href</th>\n",
       "      <th>type</th>\n",
       "      <th>uri</th>\n",
       "      <th>valence</th>\n",
       "    </tr>\n",
       "  </thead>\n",
       "  <tbody>\n",
       "    <tr>\n",
       "      <th>0</th>\n",
       "      <td>0.06220</td>\n",
       "      <td>https://api.spotify.com/v1/audio-analysis/0pqn...</td>\n",
       "      <td>0.776</td>\n",
       "      <td>204347</td>\n",
       "      <td>0.780</td>\n",
       "      <td>0pqnGHJpmpxLKifKRmU6WP</td>\n",
       "      <td>0</td>\n",
       "      <td>10</td>\n",
       "      <td>0.0810</td>\n",
       "      <td>-4.374</td>\n",
       "      <td>0</td>\n",
       "      <td>0.1280</td>\n",
       "      <td>124.949</td>\n",
       "      <td>4</td>\n",
       "      <td>https://api.spotify.com/v1/tracks/0pqnGHJpmpxL...</td>\n",
       "      <td>audio_features</td>\n",
       "      <td>spotify:track:0pqnGHJpmpxLKifKRmU6WP</td>\n",
       "      <td>0.666</td>\n",
       "    </tr>\n",
       "    <tr>\n",
       "      <th>1</th>\n",
       "      <td>0.00585</td>\n",
       "      <td>https://api.spotify.com/v1/audio-analysis/4gB7...</td>\n",
       "      <td>0.544</td>\n",
       "      <td>221800</td>\n",
       "      <td>0.781</td>\n",
       "      <td>4gB7HrYHbJVJ5RFOjxmoq4</td>\n",
       "      <td>0</td>\n",
       "      <td>6</td>\n",
       "      <td>0.1910</td>\n",
       "      <td>-6.160</td>\n",
       "      <td>0</td>\n",
       "      <td>0.0311</td>\n",
       "      <td>144.075</td>\n",
       "      <td>4</td>\n",
       "      <td>https://api.spotify.com/v1/tracks/4gB7HrYHbJVJ...</td>\n",
       "      <td>audio_features</td>\n",
       "      <td>spotify:track:4gB7HrYHbJVJ5RFOjxmoq4</td>\n",
       "      <td>0.527</td>\n",
       "    </tr>\n",
       "    <tr>\n",
       "      <th>2</th>\n",
       "      <td>0.04030</td>\n",
       "      <td>https://api.spotify.com/v1/audio-analysis/76cy...</td>\n",
       "      <td>0.836</td>\n",
       "      <td>217947</td>\n",
       "      <td>0.544</td>\n",
       "      <td>76cy1WJvNGJTj78UqeA5zr</td>\n",
       "      <td>0</td>\n",
       "      <td>7</td>\n",
       "      <td>0.0824</td>\n",
       "      <td>-5.975</td>\n",
       "      <td>1</td>\n",
       "      <td>0.0943</td>\n",
       "      <td>97.028</td>\n",
       "      <td>4</td>\n",
       "      <td>https://api.spotify.com/v1/tracks/76cy1WJvNGJT...</td>\n",
       "      <td>audio_features</td>\n",
       "      <td>spotify:track:76cy1WJvNGJTj78UqeA5zr</td>\n",
       "      <td>0.510</td>\n",
       "    </tr>\n",
       "  </tbody>\n",
       "</table>\n",
       "</div>"
      ],
      "text/plain": [
       "   acousticness                                       analysis_url  \\\n",
       "0       0.06220  https://api.spotify.com/v1/audio-analysis/0pqn...   \n",
       "1       0.00585  https://api.spotify.com/v1/audio-analysis/4gB7...   \n",
       "2       0.04030  https://api.spotify.com/v1/audio-analysis/76cy...   \n",
       "\n",
       "   danceability  duration_ms  energy                      id  \\\n",
       "0         0.776       204347   0.780  0pqnGHJpmpxLKifKRmU6WP   \n",
       "1         0.544       221800   0.781  4gB7HrYHbJVJ5RFOjxmoq4   \n",
       "2         0.836       217947   0.544  76cy1WJvNGJTj78UqeA5zr   \n",
       "\n",
       "   instrumentalness  key  liveness  loudness  mode  speechiness    tempo  \\\n",
       "0                 0   10    0.0810    -4.374     0       0.1280  124.949   \n",
       "1                 0    6    0.1910    -6.160     0       0.0311  144.075   \n",
       "2                 0    7    0.0824    -5.975     1       0.0943   97.028   \n",
       "\n",
       "   time_signature                                         track_href  \\\n",
       "0               4  https://api.spotify.com/v1/tracks/0pqnGHJpmpxL...   \n",
       "1               4  https://api.spotify.com/v1/tracks/4gB7HrYHbJVJ...   \n",
       "2               4  https://api.spotify.com/v1/tracks/76cy1WJvNGJT...   \n",
       "\n",
       "             type                                   uri  valence  \n",
       "0  audio_features  spotify:track:0pqnGHJpmpxLKifKRmU6WP    0.666  \n",
       "1  audio_features  spotify:track:4gB7HrYHbJVJ5RFOjxmoq4    0.527  \n",
       "2  audio_features  spotify:track:76cy1WJvNGJTj78UqeA5zr    0.510  "
      ]
     },
     "execution_count": 203,
     "metadata": {},
     "output_type": "execute_result"
    }
   ],
   "source": [
    "df_audio_features.head()\n",
    "df_audio_features = pd.DataFrame.from_dict(rows,orient='columns')\n",
    "print(\"Shape of the dataset:\", df_audio_features.shape)"
   ]
  },
  {
   "cell_type": "code",
   "execution_count": 222,
   "metadata": {},
   "outputs": [
    {
     "name": "stdout",
     "output_type": "stream",
     "text": [
      "Shape of the dataset: (3, 18)\n"
     ]
    },
    {
     "data": {
      "text/plain": [
       "acousticness        float64\n",
       "analysis_url         object\n",
       "danceability        float64\n",
       "duration_ms           int64\n",
       "energy              float64\n",
       "id                   object\n",
       "instrumentalness      int64\n",
       "key                   int64\n",
       "liveness            float64\n",
       "loudness            float64\n",
       "mode                  int64\n",
       "speechiness         float64\n",
       "tempo               float64\n",
       "time_signature        int64\n",
       "track_href           object\n",
       "type                 object\n",
       "uri                  object\n",
       "valence             float64\n",
       "dtype: object"
      ]
     },
     "execution_count": 222,
     "metadata": {},
     "output_type": "execute_result"
    }
   ],
   "source": [
    "df_audio_features = pd.DataFrame.from_dict(rows,orient='columns')\n",
    "print(\"Shape of the dataset:\", df_audio_features.shape)\n",
    "df_audio_features.dtypes"
   ]
  },
  {
   "cell_type": "markdown",
   "metadata": {},
   "source": [
    "Processing the data - drop uneeded columns"
   ]
  },
  {
   "cell_type": "code",
   "execution_count": 223,
   "metadata": {},
   "outputs": [
    {
     "name": "stdout",
     "output_type": "stream",
     "text": [
      "Shape of the dataset: (3, 14)\n"
     ]
    },
    {
     "data": {
      "text/plain": [
       "acousticness        float64\n",
       "danceability        float64\n",
       "duration_ms           int64\n",
       "energy              float64\n",
       "track_id             object\n",
       "instrumentalness      int64\n",
       "key                   int64\n",
       "liveness            float64\n",
       "loudness            float64\n",
       "mode                  int64\n",
       "speechiness         float64\n",
       "tempo               float64\n",
       "time_signature        int64\n",
       "valence             float64\n",
       "dtype: object"
      ]
     },
     "execution_count": 223,
     "metadata": {},
     "output_type": "execute_result"
    }
   ],
   "source": [
    "df_audio_features.drop(['analysis_url', 'track_href', 'type', 'uri'], axis=1,inplace=True)\n",
    "\n",
    "df_audio_features.rename(columns={'id': 'track_id'}, inplace=True)\n",
    "\n",
    "print(\"Shape of the dataset:\", df_audio_features.shape)\n",
    "df_audio_features.dtypes"
   ]
  },
  {
   "cell_type": "markdown",
   "metadata": {},
   "source": [
    "Merge between audio features dataframe and our original dataframe"
   ]
  },
  {
   "cell_type": "code",
   "execution_count": null,
   "metadata": {},
   "outputs": [],
   "source": [
    "# the 'inner' method will make sure that we only keep track IDs present in both datasets\n",
    "# df = pd.merge(df_tracks,df_audio_features,on='track_id',how='inner')\n",
    "# print(\"Shape of the dataset:\", df_audio_features.shape)\n",
    "# df.head()"
   ]
  },
  {
   "cell_type": "markdown",
   "metadata": {},
   "source": [
    "Cheching if we have any duplication in track"
   ]
  },
  {
   "cell_type": "code",
   "execution_count": 224,
   "metadata": {},
   "outputs": [],
   "source": [
    "#df[df.duplicated(subset=['artist_name','track_name'],keep=False)]"
   ]
  },
  {
   "cell_type": "markdown",
   "metadata": {},
   "source": [
    "Saving the new dataframe as csv for outer use"
   ]
  },
  {
   "cell_type": "code",
   "execution_count": null,
   "metadata": {},
   "outputs": [],
   "source": [
    "#df.to_csv('myname.csv')"
   ]
  }
 ],
 "metadata": {
  "kernelspec": {
   "display_name": "Python 3",
   "language": "python",
   "name": "python3"
  },
  "language_info": {
   "codemirror_mode": {
    "name": "ipython",
    "version": 3
   },
   "file_extension": ".py",
   "mimetype": "text/x-python",
   "name": "python",
   "nbconvert_exporter": "python",
   "pygments_lexer": "ipython3",
   "version": "3.7.3"
  }
 },
 "nbformat": 4,
 "nbformat_minor": 2
}
